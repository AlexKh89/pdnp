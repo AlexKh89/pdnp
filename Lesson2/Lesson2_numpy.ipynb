{
 "cells": [
  {
   "cell_type": "markdown",
   "id": "117022ed-3ffa-4358-b31d-79b8281b217d",
   "metadata": {},
   "source": [
    "## Задания по numpy"
   ]
  },
  {
   "cell_type": "code",
   "execution_count": 17,
   "id": "baca9822-c451-4def-8626-aa4bba71d64e",
   "metadata": {},
   "outputs": [],
   "source": [
    "import numpy as np"
   ]
  },
  {
   "cell_type": "markdown",
   "id": "ed601933-5a67-4440-a0dc-b83472d6f03a",
   "metadata": {},
   "source": [
    "### Задание 1"
   ]
  },
  {
   "cell_type": "markdown",
   "id": "383172fe-5a10-45c0-9dc1-0a1d2118cc95",
   "metadata": {},
   "source": [
    "Импортируйте библиотеку Numpy и дайте ей псевдоним np.\n",
    "Создайте массив Numpy под названием a размером 5x2, то есть состоящий из 5 строк и 2 столбцов. Первый столбец должен содержать числа 1, 2, 3, 3, 1, а второй - числа 6, 8, 11, 10, 7. Будем считать, что каждый столбец - это признак, а строка - наблюдение. Затем найдите среднее значение по каждому признаку, используя метод mean массива Numpy. Результат запишите в массив mean_a, в нем должно быть 2 элемента."
   ]
  },
  {
   "cell_type": "code",
   "execution_count": 18,
   "id": "bd271b8c-3e87-4673-a4dc-59ff2972f9fb",
   "metadata": {},
   "outputs": [],
   "source": [
    "a = np.array([[1, 6],\n",
    "               [2, 8],\n",
    "               [3, 10],\n",
    "               [3, 11],\n",
    "               [1, 7]])"
   ]
  },
  {
   "cell_type": "code",
   "execution_count": 19,
   "id": "7ac6a18f-5298-4713-92bc-d1b00628dc48",
   "metadata": {},
   "outputs": [
    {
     "data": {
      "text/plain": [
       "array([2. , 8.4])"
      ]
     },
     "execution_count": 19,
     "metadata": {},
     "output_type": "execute_result"
    }
   ],
   "source": [
    "mean_a = a.mean(axis = 0)\n",
    "mean_a"
   ]
  },
  {
   "cell_type": "markdown",
   "id": "5c7eb050-d5bc-45f9-bd22-cd0b8eca070b",
   "metadata": {},
   "source": [
    "### Задание 2"
   ]
  },
  {
   "cell_type": "markdown",
   "id": "3d28e343-ee18-4b8f-b3dd-e09fe1f0c2a1",
   "metadata": {},
   "source": [
    "Вычислите массив a_centered, отняв от значений массива “а” средние значения соответствующих признаков, содержащиеся в массиве mean_a.\n",
    "Вычисление должно производиться в одно действие. Получившийся массив должен иметь размер 5x2."
   ]
  },
  {
   "cell_type": "code",
   "execution_count": 20,
   "id": "f91b4dc1-9bf8-4cca-9eae-8d5c4c1134ff",
   "metadata": {},
   "outputs": [
    {
     "data": {
      "text/plain": [
       "array([[-1. , -2.4],\n",
       "       [ 0. , -0.4],\n",
       "       [ 1. ,  1.6],\n",
       "       [ 1. ,  2.6],\n",
       "       [-1. , -1.4]])"
      ]
     },
     "execution_count": 20,
     "metadata": {},
     "output_type": "execute_result"
    }
   ],
   "source": [
    "a_centered = a-mean_a\n",
    "a_centered"
   ]
  },
  {
   "cell_type": "markdown",
   "id": "9c056425-88c6-4803-b80e-bfec57a0455c",
   "metadata": {},
   "source": [
    "### Задание 3"
   ]
  },
  {
   "cell_type": "markdown",
   "id": "582f9119-d424-4234-adff-645ff76acb74",
   "metadata": {},
   "source": [
    "Найдите скалярное произведение столбцов массива a_centered. В результате должна получиться величина a_centered_sp.\n",
    "Затем поделите a_centered_sp на N-1, где N - число наблюдений."
   ]
  },
  {
   "cell_type": "code",
   "execution_count": 21,
   "id": "11b49782-5ece-44db-a445-7e71cf9a9ff4",
   "metadata": {},
   "outputs": [
    {
     "data": {
      "text/plain": [
       "2.0"
      ]
     },
     "execution_count": 21,
     "metadata": {},
     "output_type": "execute_result"
    }
   ],
   "source": [
    "a_centered_sp = a_centered[:, 0].dot(a_centered[:, 1])\n",
    "covar = round(a_centered_sp / (np.shape(a)[0] - 1), 3)\n",
    "covar"
   ]
  },
  {
   "cell_type": "markdown",
   "id": "0d277b84-e05b-4e25-bfb8-b0a064f409a4",
   "metadata": {},
   "source": [
    "### Задание 4"
   ]
  },
  {
   "cell_type": "markdown",
   "id": "1f969319-71d9-41cc-bcc3-afe362b72132",
   "metadata": {},
   "source": [
    "Число, которое мы получили в конце задания 3 является ковариацией двух признаков, содержащихся в массиве “а”. В задании 4 мы делили сумму произведений центрированных признаков на N-1, а не на N, поэтому полученная нами величина является несмещенной оценкой ковариации.\n",
    "Подробнее узнать о ковариации можно здесь:<br>\n",
    "<a href='https://studopedia.ru/9_153900_viborochnaya-kovariatsiya-i-viborochnaya-dispersiya.html'>Выборочная ковариация и выборочная дисперсия — Студопедия</a><br>\n",
    "В этом задании проверьте получившееся число, вычислив ковариацию еще одним способом - с помощью функции np.cov. В качестве аргумента m функция np.cov должна принимать транспонированный массив “a”. В получившейся ковариационной матрице (массив Numpy размером 2x2) искомое значение ковариации будет равно элементу в строке с индексом 0 и столбце с индексом 1."
   ]
  },
  {
   "cell_type": "code",
   "execution_count": 22,
   "id": "67ce1cf6-0921-41c6-858a-0b0919f33753",
   "metadata": {},
   "outputs": [
    {
     "data": {
      "text/plain": [
       "array([[1. , 2. ],\n",
       "       [2. , 4.3]])"
      ]
     },
     "execution_count": 22,
     "metadata": {},
     "output_type": "execute_result"
    }
   ],
   "source": [
    "covar_m = np.cov(a.transpose())\n",
    "covar_m"
   ]
  },
  {
   "cell_type": "code",
   "execution_count": 23,
   "id": "c50309ab-68ce-447b-aa67-cef93c07d881",
   "metadata": {},
   "outputs": [
    {
     "name": "stdout",
     "output_type": "stream",
     "text": [
      "Значения ковариации совпадают\n"
     ]
    }
   ],
   "source": [
    "print(\"Значения ковариации совпадают\" if covar_m[0, 1] == covar else \"Значения ковариации различны\")"
   ]
  }
 ],
 "metadata": {
  "kernelspec": {
   "display_name": "Python 3",
   "language": "python",
   "name": "python3"
  },
  "language_info": {
   "codemirror_mode": {
    "name": "ipython",
    "version": 3
   },
   "file_extension": ".py",
   "mimetype": "text/x-python",
   "name": "python",
   "nbconvert_exporter": "python",
   "pygments_lexer": "ipython3",
   "version": "3.6.13"
  }
 },
 "nbformat": 4,
 "nbformat_minor": 5
}
